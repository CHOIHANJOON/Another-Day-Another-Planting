{
  "nbformat": 4,
  "nbformat_minor": 0,
  "metadata": {
    "colab": {
      "name": "연습장(lgbm을 통한 와인분류 모델 만들기).ipynb",
      "provenance": [],
      "authorship_tag": "ABX9TyNaoiOA3Y1TeBXf+aIs/TGs",
      "include_colab_link": true
    },
    "kernelspec": {
      "name": "python3",
      "display_name": "Python 3"
    },
    "language_info": {
      "name": "python"
    }
  },
  "cells": [
    {
      "cell_type": "markdown",
      "metadata": {
        "id": "view-in-github",
        "colab_type": "text"
      },
      "source": [
        "<a href=\"https://colab.research.google.com/github/CHOIHANJOON/Another-Day-Another-Planting/blob/main/%EC%97%B0%EC%8A%B5%EC%9E%A5(%EC%88%98%EC%B9%98%ED%98%95%20%EB%8D%B0%EC%9D%B4%ED%84%B0%20%EC%A0%95%EA%B7%9C%ED%99%94/Min%20Max%20Scailing).ipynb\" target=\"_parent\"><img src=\"https://colab.research.google.com/assets/colab-badge.svg\" alt=\"Open In Colab\"/></a>"
      ]
    },
    {
      "cell_type": "markdown",
      "source": [
        "**수치형 데이터 정규화** \n",
        "\n",
        "\n",
        "\n",
        "로지스틱 회귀모델이나 라쏘등 숫자의 크기와 단위에 영향을 많이 받는 알고리즘 성능 개선을 위한 전처리 과정"
      ],
      "metadata": {
        "id": "Pyb3RbH1xzN6"
      }
    },
    {
      "cell_type": "code",
      "execution_count": 1,
      "metadata": {
        "colab": {
          "base_uri": "https://localhost:8080/"
        },
        "id": "MRaLJDECukJp",
        "outputId": "62017a83-dd4d-4018-ece5-e72f72962528"
      },
      "outputs": [
        {
          "output_type": "stream",
          "name": "stdout",
          "text": [
            "--2022-07-08 02:55:44--  https://bit.ly/3i4n1QB\n",
            "Resolving bit.ly (bit.ly)... 67.199.248.11, 67.199.248.10\n",
            "Connecting to bit.ly (bit.ly)|67.199.248.11|:443... connected.\n",
            "HTTP request sent, awaiting response... 301 Moved Permanently\n",
            "Location: https://drive.google.com/uc?export=download&id=1emLrrpFWT8dCoj5BJb12-5QMG2-nruUw [following]\n",
            "--2022-07-08 02:55:44--  https://drive.google.com/uc?export=download&id=1emLrrpFWT8dCoj5BJb12-5QMG2-nruUw\n",
            "Resolving drive.google.com (drive.google.com)... 74.125.141.139, 74.125.141.101, 74.125.141.113, ...\n",
            "Connecting to drive.google.com (drive.google.com)|74.125.141.139|:443... connected.\n",
            "HTTP request sent, awaiting response... 303 See Other\n",
            "Location: https://doc-10-10-docs.googleusercontent.com/docs/securesc/ha0ro937gcuc7l7deffksulhg5h7mbp1/m1a7eh140a8g79u2me7e9fmv0s5ok30l/1657248900000/17946651057176172524/*/1emLrrpFWT8dCoj5BJb12-5QMG2-nruUw?e=download&uuid=68257fec-9b42-4579-bb07-e3d98fa65bd2 [following]\n",
            "Warning: wildcards not supported in HTTP.\n",
            "--2022-07-08 02:55:44--  https://doc-10-10-docs.googleusercontent.com/docs/securesc/ha0ro937gcuc7l7deffksulhg5h7mbp1/m1a7eh140a8g79u2me7e9fmv0s5ok30l/1657248900000/17946651057176172524/*/1emLrrpFWT8dCoj5BJb12-5QMG2-nruUw?e=download&uuid=68257fec-9b42-4579-bb07-e3d98fa65bd2\n",
            "Resolving doc-10-10-docs.googleusercontent.com (doc-10-10-docs.googleusercontent.com)... 74.125.141.132, 2607:f8b0:400c:c06::84\n",
            "Connecting to doc-10-10-docs.googleusercontent.com (doc-10-10-docs.googleusercontent.com)|74.125.141.132|:443... connected.\n",
            "HTTP request sent, awaiting response... 200 OK\n",
            "Length: 137694 (134K) [application/zip]\n",
            "Saving to: ‘3i4n1QB’\n",
            "\n",
            "3i4n1QB             100%[===================>] 134.47K  --.-KB/s    in 0.002s  \n",
            "\n",
            "2022-07-08 02:55:45 (86.6 MB/s) - ‘3i4n1QB’ saved [137694/137694]\n",
            "\n"
          ]
        }
      ],
      "source": [
        "# 데이터 다운로드 링크로 데이터를 코랩에 불러옵니다.\n",
        "\n",
        "!wget 'https://bit.ly/3i4n1QB'\n",
        "\n",
        "import zipfile\n",
        "with zipfile.ZipFile('3i4n1QB', 'r') as existing_zip:\n",
        "    existing_zip.extractall('data')"
      ]
    },
    {
      "cell_type": "code",
      "source": [
        "import pandas as pd\n",
        "import seaborn as sns\n",
        "from sklearn.preprocessing import MinMaxScaler"
      ],
      "metadata": {
        "id": "KmJ3cvIeu_Wq"
      },
      "execution_count": 2,
      "outputs": []
    },
    {
      "cell_type": "code",
      "source": [
        "train = pd.read_csv('data/train.csv')"
      ],
      "metadata": {
        "id": "thqK1l__vGiS"
      },
      "execution_count": 4,
      "outputs": []
    },
    {
      "cell_type": "code",
      "source": [
        "train.info()"
      ],
      "metadata": {
        "colab": {
          "base_uri": "https://localhost:8080/"
        },
        "id": "k3qXCLzBv3_P",
        "outputId": "488e56d9-9fa6-4764-a7e3-489c50d3c414"
      },
      "execution_count": 5,
      "outputs": [
        {
          "output_type": "stream",
          "name": "stdout",
          "text": [
            "<class 'pandas.core.frame.DataFrame'>\n",
            "RangeIndex: 5497 entries, 0 to 5496\n",
            "Data columns (total 14 columns):\n",
            " #   Column                Non-Null Count  Dtype  \n",
            "---  ------                --------------  -----  \n",
            " 0   index                 5497 non-null   int64  \n",
            " 1   quality               5497 non-null   int64  \n",
            " 2   fixed acidity         5497 non-null   float64\n",
            " 3   volatile acidity      5497 non-null   float64\n",
            " 4   citric acid           5497 non-null   float64\n",
            " 5   residual sugar        5497 non-null   float64\n",
            " 6   chlorides             5497 non-null   float64\n",
            " 7   free sulfur dioxide   5497 non-null   float64\n",
            " 8   total sulfur dioxide  5497 non-null   float64\n",
            " 9   density               5497 non-null   float64\n",
            " 10  pH                    5497 non-null   float64\n",
            " 11  sulphates             5497 non-null   float64\n",
            " 12  alcohol               5497 non-null   float64\n",
            " 13  type                  5497 non-null   object \n",
            "dtypes: float64(11), int64(2), object(1)\n",
            "memory usage: 601.4+ KB\n"
          ]
        }
      ]
    },
    {
      "cell_type": "code",
      "source": [
        "# describe를 통해 fixed acidity 의 데이터의 분포가 어떻게 생겼는지 짐작해보세요\n",
        "# seaborn의 displot을 통해 fixed acidity 의 distplot을 그려보세요\n",
        "# MinMaxScaler를 scaler라는 변수에 지정해주세요\n",
        "# scaler를 학습시켜주세요\n",
        "# scaler를 통해 train의 fixed acidity를 바꾸어 Scaled fixed acidity 컬럼에 저장\n",
        "# seaborn의 displot을 통해 Scaled fixed acidity의 displot을 그려보기"
      ],
      "metadata": {
        "id": "T-VBkB32yQco"
      },
      "execution_count": 14,
      "outputs": []
    },
    {
      "cell_type": "code",
      "source": [
        "train['fixed acidity'].describe"
      ],
      "metadata": {
        "colab": {
          "base_uri": "https://localhost:8080/"
        },
        "id": "DUljCmEuv6tC",
        "outputId": "536d5b32-0cea-4635-c876-00a0ff3c34ea"
      },
      "execution_count": 6,
      "outputs": [
        {
          "output_type": "execute_result",
          "data": {
            "text/plain": [
              "<bound method NDFrame.describe of 0       5.6\n",
              "1       8.8\n",
              "2       7.9\n",
              "3       7.0\n",
              "4       7.8\n",
              "       ... \n",
              "5492    7.7\n",
              "5493    6.3\n",
              "5494    7.8\n",
              "5495    6.6\n",
              "5496    7.0\n",
              "Name: fixed acidity, Length: 5497, dtype: float64>"
            ]
          },
          "metadata": {},
          "execution_count": 6
        }
      ]
    },
    {
      "cell_type": "code",
      "source": [
        "sns.distplot(train['fixed acidity'])"
      ],
      "metadata": {
        "colab": {
          "base_uri": "https://localhost:8080/",
          "height": 353
        },
        "id": "UNxL3KjcwAcR",
        "outputId": "0bf72fb5-9df7-4786-c0d6-f63b4c9530de"
      },
      "execution_count": 13,
      "outputs": [
        {
          "output_type": "stream",
          "name": "stderr",
          "text": [
            "/usr/local/lib/python3.7/dist-packages/seaborn/distributions.py:2619: FutureWarning: `distplot` is a deprecated function and will be removed in a future version. Please adapt your code to use either `displot` (a figure-level function with similar flexibility) or `histplot` (an axes-level function for histograms).\n",
            "  warnings.warn(msg, FutureWarning)\n"
          ]
        },
        {
          "output_type": "execute_result",
          "data": {
            "text/plain": [
              "<matplotlib.axes._subplots.AxesSubplot at 0x7f8faa00e5d0>"
            ]
          },
          "metadata": {},
          "execution_count": 13
        },
        {
          "output_type": "display_data",
          "data": {
            "text/plain": [
              "<Figure size 432x288 with 1 Axes>"
            ],
            "image/png": "[encoded data removed]"
          },
          "metadata": {
            "needs_background": "light"
          }
        }
      ]
    },
    {
      "cell_type": "code",
      "source": [
        "scaler = MinMaxScaler()\n",
        "\n",
        "scaler.fit(train[['fixed acidity']])"
      ],
      "metadata": {
        "colab": {
          "base_uri": "https://localhost:8080/"
        },
        "id": "XLNzkEWnwLHV",
        "outputId": "7216e3f9-58d2-40d4-b55f-8fbb8ba1dd98"
      },
      "execution_count": 10,
      "outputs": [
        {
          "output_type": "execute_result",
          "data": {
            "text/plain": [
              "MinMaxScaler()"
            ]
          },
          "metadata": {},
          "execution_count": 10
        }
      ]
    },
    {
      "cell_type": "code",
      "source": [
        "train['Scaled fixed acidity'] = scaler.transform(train[['fixed acidity']])"
      ],
      "metadata": {
        "id": "LP2u17EYwab4"
      },
      "execution_count": 11,
      "outputs": []
    },
    {
      "cell_type": "code",
      "source": [
        "sns.distplot(train['Scaled fixed acidity'])"
      ],
      "metadata": {
        "colab": {
          "base_uri": "https://localhost:8080/",
          "height": 353
        },
        "id": "Gze5CuchxM63",
        "outputId": "904c14c4-555f-4f03-c6a8-87f32761131d"
      },
      "execution_count": 12,
      "outputs": [
        {
          "output_type": "stream",
          "name": "stderr",
          "text": [
            "/usr/local/lib/python3.7/dist-packages/seaborn/distributions.py:2619: FutureWarning: `distplot` is a deprecated function and will be removed in a future version. Please adapt your code to use either `displot` (a figure-level function with similar flexibility) or `histplot` (an axes-level function for histograms).\n",
            "  warnings.warn(msg, FutureWarning)\n"
          ]
        },
        {
          "output_type": "execute_result",
          "data": {
            "text/plain": [
              "<matplotlib.axes._subplots.AxesSubplot at 0x7f8faf25f350>"
            ]
          },
          "metadata": {},
          "execution_count": 12
        },
        {
          "output_type": "display_data",
          "data": {
            "text/plain": [
              "<Figure size 432x288 with 1 Axes>"
            ],
            "image/png": "[encoded data removed]"
          },
          "metadata": {
            "needs_background": "light"
          }
        }
      ]
    },
    {
      "cell_type": "code",
      "source": [
        ""
      ],
      "metadata": {
        "id": "SJOilLFXvUjM"
      },
      "execution_count": null,
      "outputs": []
    }
  ]
}