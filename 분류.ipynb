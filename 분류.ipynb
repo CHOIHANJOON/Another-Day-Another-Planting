{
  "nbformat": 4,
  "nbformat_minor": 0,
  "metadata": {
    "colab": {
      "name": "분류.ipynb",
      "provenance": [],
      "authorship_tag": "ABX9TyOGOClxTF/jkMH0ozZUi18b",
      "include_colab_link": true
    },
    "kernelspec": {
      "name": "python3",
      "display_name": "Python 3"
    },
    "language_info": {
      "name": "python"
    }
  },
  "cells": [
    {
      "cell_type": "markdown",
      "metadata": {
        "id": "view-in-github",
        "colab_type": "text"
      },
      "source": [
        "<a href=\"https://colab.research.google.com/github/CHOIHANJOON/python/blob/main/%EB%B6%84%EB%A5%98.ipynb\" target=\"_parent\"><img src=\"https://colab.research.google.com/assets/colab-badge.svg\" alt=\"Open In Colab\"/></a>"
      ]
    },
    {
      "cell_type": "code",
      "execution_count": 1,
      "metadata": {
        "id": "BAy5BDFLDhez"
      },
      "outputs": [],
      "source": [
        "# 분류"
      ]
    },
    {
      "cell_type": "code",
      "source": [
        "import pandas as pd\n",
        "import seaborn as sns\n",
        "\n",
        "df= sns.load_dataset('titanic')\n",
        "\n",
        "print(df.head())\n",
        "\n",
        "print('\\n')\n",
        "\n",
        "pd.set_option('display.max_columns', 15)\n",
        "print(df.head())"
      ],
      "metadata": {
        "colab": {
          "base_uri": "https://localhost:8080/"
        },
        "id": "w2FzT6OhDjT9",
        "outputId": "3bc0fe39-c0ed-4e1d-a880-26d3dc1558b2"
      },
      "execution_count": 3,
      "outputs": [
        {
          "output_type": "stream",
          "name": "stdout",
          "text": [
            "   survived  pclass     sex   age  sibsp  parch     fare embarked  class  \\\n",
            "0         0       3    male  22.0      1      0   7.2500        S  Third   \n",
            "1         1       1  female  38.0      1      0  71.2833        C  First   \n",
            "2         1       3  female  26.0      0      0   7.9250        S  Third   \n",
            "3         1       1  female  35.0      1      0  53.1000        S  First   \n",
            "4         0       3    male  35.0      0      0   8.0500        S  Third   \n",
            "\n",
            "     who  adult_male deck  embark_town alive  alone  \n",
            "0    man        True  NaN  Southampton    no  False  \n",
            "1  woman       False    C    Cherbourg   yes  False  \n",
            "2  woman       False  NaN  Southampton   yes   True  \n",
            "3  woman       False    C  Southampton   yes  False  \n",
            "4    man        True  NaN  Southampton    no   True  \n",
            "\n",
            "\n",
            "   survived  pclass     sex   age  sibsp  parch     fare embarked  class  \\\n",
            "0         0       3    male  22.0      1      0   7.2500        S  Third   \n",
            "1         1       1  female  38.0      1      0  71.2833        C  First   \n",
            "2         1       3  female  26.0      0      0   7.9250        S  Third   \n",
            "3         1       1  female  35.0      1      0  53.1000        S  First   \n",
            "4         0       3    male  35.0      0      0   8.0500        S  Third   \n",
            "\n",
            "     who  adult_male deck  embark_town alive  alone  \n",
            "0    man        True  NaN  Southampton    no  False  \n",
            "1  woman       False    C    Cherbourg   yes  False  \n",
            "2  woman       False  NaN  Southampton   yes   True  \n",
            "3  woman       False    C  Southampton   yes  False  \n",
            "4    man        True  NaN  Southampton    no   True  \n"
          ]
        }
      ]
    },
    {
      "cell_type": "code",
      "source": [
        "rdf=df.drop(['deck','embark_town'], axis=1)\n",
        "print(rdf.columns.values)"
      ],
      "metadata": {
        "colab": {
          "base_uri": "https://localhost:8080/"
        },
        "id": "lgBYBbyiD9UB",
        "outputId": "af10d9ff-5e88-4c52-8994-02cf6e67bdd1"
      },
      "execution_count": 5,
      "outputs": [
        {
          "output_type": "stream",
          "name": "stdout",
          "text": [
            "['survived' 'pclass' 'sex' 'age' 'sibsp' 'parch' 'fare' 'embarked' 'class'\n",
            " 'who' 'adult_male' 'alive' 'alone']\n"
          ]
        }
      ]
    },
    {
      "cell_type": "code",
      "source": [
        "rdf = rdf.dropna(subset=['age'], how='any', axis=0)\n",
        "print(len(rdf))"
      ],
      "metadata": {
        "colab": {
          "base_uri": "https://localhost:8080/"
        },
        "id": "392u1Z0SEQRR",
        "outputId": "8647d229-e746-4785-ce15-bf561a0d70ba"
      },
      "execution_count": 7,
      "outputs": [
        {
          "output_type": "stream",
          "name": "stdout",
          "text": [
            "714\n"
          ]
        }
      ]
    },
    {
      "cell_type": "code",
      "source": [
        "most_freq = rdf['embarked'].value_counts(dropna=True).idxmax()\n",
        "print(most_freq)\n",
        "print('\\n')\n",
        "\n",
        "print(rdf.describe(include='all'))\n",
        "print('\\n')\n",
        "\n",
        "rdf['embarked'].fillna(most_freq, inplace=True)"
      ],
      "metadata": {
        "colab": {
          "base_uri": "https://localhost:8080/"
        },
        "id": "Ieq-VU65Ig7l",
        "outputId": "34242b8f-6698-4b42-833c-5682e647e0ef"
      },
      "execution_count": 9,
      "outputs": [
        {
          "output_type": "stream",
          "name": "stdout",
          "text": [
            "S\n",
            "\n",
            "\n",
            "          survived      pclass   sex         age       sibsp       parch  \\\n",
            "count   714.000000  714.000000   714  714.000000  714.000000  714.000000   \n",
            "unique         NaN         NaN     2         NaN         NaN         NaN   \n",
            "top            NaN         NaN  male         NaN         NaN         NaN   \n",
            "freq           NaN         NaN   453         NaN         NaN         NaN   \n",
            "mean      0.406162    2.236695   NaN   29.699118    0.512605    0.431373   \n",
            "std       0.491460    0.838250   NaN   14.526497    0.929783    0.853289   \n",
            "min       0.000000    1.000000   NaN    0.420000    0.000000    0.000000   \n",
            "25%       0.000000    1.000000   NaN   20.125000    0.000000    0.000000   \n",
            "50%       0.000000    2.000000   NaN   28.000000    0.000000    0.000000   \n",
            "75%       1.000000    3.000000   NaN   38.000000    1.000000    1.000000   \n",
            "max       1.000000    3.000000   NaN   80.000000    5.000000    6.000000   \n",
            "\n",
            "              fare embarked  class  who adult_male alive alone  \n",
            "count   714.000000      712    714  714        714   714   714  \n",
            "unique         NaN        3      3    3          2     2     2  \n",
            "top            NaN        S  Third  man       True    no  True  \n",
            "freq           NaN      554    355  413        413   424   404  \n",
            "mean     34.694514      NaN    NaN  NaN        NaN   NaN   NaN  \n",
            "std      52.918930      NaN    NaN  NaN        NaN   NaN   NaN  \n",
            "min       0.000000      NaN    NaN  NaN        NaN   NaN   NaN  \n",
            "25%       8.050000      NaN    NaN  NaN        NaN   NaN   NaN  \n",
            "50%      15.741700      NaN    NaN  NaN        NaN   NaN   NaN  \n",
            "75%      33.375000      NaN    NaN  NaN        NaN   NaN   NaN  \n",
            "max     512.329200      NaN    NaN  NaN        NaN   NaN   NaN  \n",
            "\n",
            "\n"
          ]
        }
      ]
    },
    {
      "cell_type": "code",
      "source": [
        "ndf = rdf[['survived', 'pclass', 'sex','age', 'sibsp','parch','embarked']]\n",
        "print(ndf.head())"
      ],
      "metadata": {
        "colab": {
          "base_uri": "https://localhost:8080/"
        },
        "id": "__pN0Dp0JG4s",
        "outputId": "bf06e6d6-5834-4ede-e05e-76f70e04c58e"
      },
      "execution_count": 10,
      "outputs": [
        {
          "output_type": "stream",
          "name": "stdout",
          "text": [
            "   survived  pclass     sex   age  sibsp  parch embarked\n",
            "0         0       3    male  22.0      1      0        S\n",
            "1         1       1  female  38.0      1      0        C\n",
            "2         1       3  female  26.0      0      0        S\n",
            "3         1       1  female  35.0      1      0        S\n",
            "4         0       3    male  35.0      0      0        S\n"
          ]
        }
      ]
    },
    {
      "cell_type": "code",
      "source": [
        "onehot_sex=pd.get_dummies(ndf['sex'])\n",
        "ndf = pd.concat([ndf, onehot_sex], axis=1)\n",
        "\n",
        "onehot_embarked = pd.get_dummies(ndf['embarked'], prefix='town')\n",
        "ndf = pd.concat([ndf, onehot_embarked], axis=1)\n",
        "\n",
        "ndf.drop(['sex','embarked'], axis=1, inplace=True)\n",
        "print(ndf.head())"
      ],
      "metadata": {
        "colab": {
          "base_uri": "https://localhost:8080/"
        },
        "id": "ouHZLbzQJmCx",
        "outputId": "9a865479-d652-495d-cb56-96557c1a0680"
      },
      "execution_count": 11,
      "outputs": [
        {
          "output_type": "stream",
          "name": "stdout",
          "text": [
            "   survived  pclass   age  sibsp  parch  female  male  town_C  town_Q  town_S\n",
            "0         0       3  22.0      1      0       0     1       0       0       1\n",
            "1         1       1  38.0      1      0       1     0       1       0       0\n",
            "2         1       3  26.0      0      0       1     0       0       0       1\n",
            "3         1       1  35.0      1      0       1     0       0       0       1\n",
            "4         0       3  35.0      0      0       0     1       0       0       1\n"
          ]
        }
      ]
    },
    {
      "cell_type": "code",
      "source": [
        "X=ndf[['pclass','age','sibsp','parch','female','male','town_C','town_Q','town_S']]\n",
        "y=ndf['survived']\n",
        "\n",
        "from sklearn import preprocessing\n",
        "X = preprocessing.StandardScaler().fit(X).transform(X)\n",
        "\n",
        "from sklearn.model_selection import train_test_split\n",
        "\n",
        "X_train, X_test, y_train, y_test = train_test_split(X, y, test_size=0.3, random_state=10)\n",
        "\n",
        "\n",
        "print('train data 개수 : ', X_train.shape)\n",
        "print('test data 개수 : ', X_test.shape)"
      ],
      "metadata": {
        "colab": {
          "base_uri": "https://localhost:8080/"
        },
        "id": "uKjHGisqKazx",
        "outputId": "693e9df4-ac80-47c8-f483-3ef3bd1c0f84"
      },
      "execution_count": 13,
      "outputs": [
        {
          "output_type": "stream",
          "name": "stdout",
          "text": [
            "train data 개수 :  (499, 9)\n",
            "test data 개수 :  (215, 9)\n"
          ]
        }
      ]
    },
    {
      "cell_type": "code",
      "source": [
        "from sklearn.neighbors import KNeighborsClassifier\n",
        "\n",
        "knn = KNeighborsClassifier(n_neighbors=5)\n",
        "\n",
        "knn.fit(X_train, y_train)\n",
        "\n",
        "y_hat = knn.predict(X_test)\n",
        "\n",
        "print(y_hat[0:10])\n",
        "print(y_test.values[0:10])"
      ],
      "metadata": {
        "colab": {
          "base_uri": "https://localhost:8080/"
        },
        "id": "JiFb6IVfLTU0",
        "outputId": "99d2d213-495b-4f3f-bc38-5f1ee525fd48"
      },
      "execution_count": 15,
      "outputs": [
        {
          "output_type": "stream",
          "name": "stdout",
          "text": [
            "[0 0 1 0 0 1 1 1 0 0]\n",
            "[0 0 1 0 0 1 1 1 0 0]\n"
          ]
        }
      ]
    },
    {
      "cell_type": "code",
      "source": [
        "from sklearn import metrics\n",
        "knn_matrix = metrics.confusion_matrix(y_test, y_hat)\n",
        "print(knn_matrix)"
      ],
      "metadata": {
        "colab": {
          "base_uri": "https://localhost:8080/"
        },
        "id": "DEcpgBXeMkX0",
        "outputId": "0298aa42-a201-41b3-ad16-b0d3698e2873"
      },
      "execution_count": 16,
      "outputs": [
        {
          "output_type": "stream",
          "name": "stdout",
          "text": [
            "[[111  14]\n",
            " [ 24  66]]\n"
          ]
        }
      ]
    },
    {
      "cell_type": "code",
      "source": [
        "knn_report = metrics.classification_report(y_test, y_hat)\n",
        "print(knn_report)"
      ],
      "metadata": {
        "colab": {
          "base_uri": "https://localhost:8080/"
        },
        "id": "Xr9uRpKbM9xf",
        "outputId": "0f54a7a0-40bc-451a-886c-4cb4feb77cbe"
      },
      "execution_count": 17,
      "outputs": [
        {
          "output_type": "stream",
          "name": "stdout",
          "text": [
            "              precision    recall  f1-score   support\n",
            "\n",
            "           0       0.82      0.89      0.85       125\n",
            "           1       0.82      0.73      0.78        90\n",
            "\n",
            "    accuracy                           0.82       215\n",
            "   macro avg       0.82      0.81      0.82       215\n",
            "weighted avg       0.82      0.82      0.82       215\n",
            "\n"
          ]
        }
      ]
    },
    {
      "cell_type": "code",
      "source": [
        ""
      ],
      "metadata": {
        "id": "d_V_aGAwNHFB"
      },
      "execution_count": null,
      "outputs": []
    }
  ]
}