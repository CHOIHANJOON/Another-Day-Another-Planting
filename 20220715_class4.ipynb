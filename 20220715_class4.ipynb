{
  "cells": [
    {
      "cell_type": "markdown",
      "metadata": {
        "id": "view-in-github",
        "colab_type": "text"
      },
      "source": [
        "<a href=\"https://colab.research.google.com/github/CHOIHANJOON/Another-Day-Another-Planting/blob/main/20220715_class4.ipynb\" target=\"_parent\"><img src=\"https://colab.research.google.com/assets/colab-badge.svg\" alt=\"Open In Colab\"/></a>"
      ]
    },
    {
      "cell_type": "code",
      "execution_count": null,
      "id": "2adcc8dd",
      "metadata": {
        "id": "2adcc8dd"
      },
      "outputs": [],
      "source": [
        "import cv2\n",
        "import numpy as np\n",
        "import sys\n",
        "import matplotlib.pyplot as plt"
      ]
    },
    {
      "cell_type": "code",
      "execution_count": null,
      "id": "eba595a1",
      "metadata": {
        "id": "eba595a1",
        "outputId": "813c26ac-83aa-4d13-a8f5-72e2f38e16cb"
      },
      "outputs": [
        {
          "data": {
            "text/plain": [
              "-1"
            ]
          },
          "execution_count": 2,
          "metadata": {},
          "output_type": "execute_result"
        }
      ],
      "source": [
        "img = cv2.imread('fig/puppy.bmp')\n",
        "\n",
        "if img is None:\n",
        "    print('image read failed')\n",
        "    sys.exit()\n",
        "    \n",
        "cv2.namedWindow('image',cv2.WINDOW_AUTOSIZE)\n",
        "cv2.imshow('image', img)\n",
        "\n",
        "cv2.waitKey()\n",
        "cv2.destroyAllWindows()\n",
        "cv2.waitKey(1)"
      ]
    },
    {
      "cell_type": "code",
      "execution_count": null,
      "id": "e3309caf",
      "metadata": {
        "id": "e3309caf"
      },
      "outputs": [],
      "source": [
        "import os\n",
        "import glob"
      ]
    },
    {
      "cell_type": "code",
      "execution_count": null,
      "id": "775da9eb",
      "metadata": {
        "id": "775da9eb",
        "outputId": "258143a9-6e5a-407b-fdab-4fbb06ebed5a"
      },
      "outputs": [
        {
          "name": "stdout",
          "output_type": "stream",
          "text": [
            "['./images/boat_mountains_lake_135258_1920x1080.jpg', './images/forest_fog_trees_128751_1920x1080.jpg', './images/pier_dock_sea_dusk_shore_118549_1920x1080.jpg', './images/autumn_forest_park_128379_1920x1080.jpg', './images/road_marking_evening_clouds_horizon_120298_1920x1080.jpg']\n"
          ]
        },
        {
          "data": {
            "text/plain": [
              "'./images/boat_mountains_lake_135258_1920x1080.jpg'"
            ]
          },
          "execution_count": 7,
          "metadata": {},
          "output_type": "execute_result"
        }
      ],
      "source": [
        "# img_files = glob.glob('./images/*.*')\n",
        "# print(img_files)\n",
        "\n",
        "\n",
        "# cv2.namedWindow('image', cv2.WINDOW_NORMAL)\n",
        "# cv2.setWindowProperty('image', cv2.WND_PROP_FULLSCREEN, cv2.WINDOW_FULLSCREEN)\n",
        "\n",
        "# idx = 0\n",
        "\n",
        "# while True:\n",
        "#     img = cv2.imread(img_files[idx])\n",
        "    \n",
        "#     if img is None:\n",
        "#         print('image read failed')\n",
        "#         break\n",
        "        \n",
        "#     cv2.imshow('image', img)\n",
        "    \n",
        "#     if cv2.waitKey(3000) == 27:\n",
        "#         break\n",
        "    "
      ]
    },
    {
      "cell_type": "code",
      "execution_count": null,
      "id": "dcfcb35f",
      "metadata": {
        "id": "dcfcb35f"
      },
      "outputs": [],
      "source": [
        "img = cv2.imread('fig/cow.png')\n",
        "\n",
        "if img is None:\n",
        "    print('image read failed')\n",
        "    sys.exit()\n",
        "    \n",
        "img1 = img[200:300, 300:500]\n",
        "img2 = img[200:300, 300:500].copy()\n",
        "\n",
        "cv2.circle(img1,(100,100),50,(255,0,0),4,cv2.LINE_AA)\n",
        "\n",
        "cv2.namedWindow('image', cv2.WINDOW_AUTOSIZE)"
      ]
    },
    {
      "cell_type": "code",
      "execution_count": null,
      "id": "354c79b7",
      "metadata": {
        "id": "354c79b7",
        "outputId": "7ed34da7-3844-45d3-d0ed-954b1083669b"
      },
      "outputs": [
        {
          "data": {
            "text/plain": [
              "-1"
            ]
          },
          "execution_count": 5,
          "metadata": {},
          "output_type": "execute_result"
        }
      ],
      "source": [
        "src = cv2.imread('fig2/airplane.bmp')\n",
        "srcf = cv2.imread('fig2/mask_plane.bmp', cv2.IMREAD_GRAYSCALE)\n",
        "dst = cv2.imread('fig2/field.bmp')\n",
        "\n",
        "cv2.copyTo(src,srcf,dst)\n",
        "\n",
        "cv2.imshow('src', src)\n",
        "# cv2.imshow('srcf', srcf)\n",
        "cv2.imshow('dst', dst)\n",
        "\n",
        "cv2.waitKey()\n",
        "cv2.destroyAllWindows()\n",
        "cv2.waitKey(1)\n"
      ]
    },
    {
      "cell_type": "code",
      "execution_count": null,
      "id": "a9acc8b1",
      "metadata": {
        "id": "a9acc8b1",
        "outputId": "782f4c87-c4c2-4eed-e9e6-1730dacbf548"
      },
      "outputs": [
        {
          "data": {
            "text/plain": [
              "-1"
            ]
          },
          "execution_count": 8,
          "metadata": {},
          "output_type": "execute_result"
        }
      ],
      "source": [
        "src = cv2.imread('fig2/cow.png')\n",
        "dst = cv2.imread('fig2/green.png')\n",
        "\n",
        "src_gray = cv2.cvtColor(src, cv2.COLOR_BGR2GRAY)\n",
        "\n",
        "ret,mask = cv2.threshold(src_gray, 240, 255, cv2.THRESH_BINARY_INV)\n",
        "\n",
        "\n",
        "h,w = src.shape[:2]\n",
        "\n",
        "dst_crop = dst[400:400+h,600:600+w]\n",
        "\n",
        "cv2.copyTo(src,mask,dst_crop)\n",
        "\n",
        "cv2.imshow('src', src)\n",
        "# cv2.imshow('srcf', srcf)\n",
        "cv2.imshow('dst', dst)\n",
        "cv2.imshow('mask', mask)\n",
        "\n",
        "cv2.waitKey()\n",
        "cv2.destroyAllWindows()\n",
        "cv2.waitKey(1)\n"
      ]
    },
    {
      "cell_type": "code",
      "execution_count": null,
      "id": "c93b249d",
      "metadata": {
        "id": "c93b249d",
        "outputId": "9a161fae-8765-4a18-c2f0-ee2ed658b03e"
      },
      "outputs": [
        {
          "data": {
            "text/plain": [
              "-1"
            ]
          },
          "execution_count": 34,
          "metadata": {},
          "output_type": "execute_result"
        }
      ],
      "source": [
        "src = cv2.imread('fig/puppy.bmp')\n",
        "sunglass = cv2.imread('fig2/imgbin_sunglasses_1.png',cv2.IMREAD_UNCHANGED)\n",
        "\n",
        "\n",
        "sunglass = cv2.resize(sunglass, (300,150))\n",
        "\n",
        "mask = sunglass[:, :, -1]\n",
        "glass = sunglass[:, :, 0:3]\n",
        "\n",
        "h,w = mask.shape[:2]\n",
        "\n",
        "src_crop = src[120:120+h, 220:220+w]\n",
        "# src_crop[mask > 0] = (0,0,255)\n",
        "\n",
        "cv2.copyTo(glass, mask, src_crop)\n",
        "\n",
        "cv2.imshow('src', src)\n",
        "cv2.imshow('mask', mask)\n",
        "cv2.imshow('glass', glass)\n",
        "cv2.imshow('crop', src_crop)\n",
        "\n",
        "cv2.waitKey()\n",
        "cv2.destroyAllWindows()\n",
        "cv2.waitKey(1)\n"
      ]
    },
    {
      "cell_type": "code",
      "execution_count": null,
      "id": "d97a45eb",
      "metadata": {
        "id": "d97a45eb",
        "outputId": "fdf85907-b598-4408-8199-641ca99ffd33"
      },
      "outputs": [
        {
          "data": {
            "text/plain": [
              "(150, 300, 4)"
            ]
          },
          "execution_count": 55,
          "metadata": {},
          "output_type": "execute_result"
        }
      ],
      "source": [
        "sunglass.shape"
      ]
    },
    {
      "cell_type": "code",
      "execution_count": null,
      "id": "add53cb2",
      "metadata": {
        "id": "add53cb2",
        "outputId": "a693eb31-c37d-4f22-cf8f-294622f02467"
      },
      "outputs": [
        {
          "name": "stderr",
          "output_type": "stream",
          "text": [
            "libpng warning: iCCP: known incorrect sRGB profile\n"
          ]
        },
        {
          "data": {
            "text/plain": [
              "-1"
            ]
          },
          "execution_count": 80,
          "metadata": {},
          "output_type": "execute_result"
        }
      ],
      "source": [
        "src = cv2.imread('fig2/ 3.26.00.jpeg')\n",
        "hat = cv2.imread('fig2/imgbin_hat.png', cv2.IMREAD_UNCHANGED)\n",
        "hat = cv2.resize(hat, (800,800))\n",
        "\n",
        "\n",
        "if src is None or hat is None:\n",
        "    print('image read faile')\n",
        "    sys.exit()\n",
        "\n",
        "\n",
        "mask = hat[:,:,-1]\n",
        "hat = hat[:,:,0:3]\n",
        "\n",
        "h, w = mask.shape[:2]\n",
        "src_crop = src[140:140+h, 200:200+w]\n",
        "\n",
        "cv2.copyTo(hat, mask, src_crop)\n",
        "\n",
        "cv2.imshow('src', src)\n",
        "cv2.imshow('mask', mask)\n",
        "cv2.imshow('hat', hat)\n",
        "cv2.imshow('crop', src_crop)\n",
        "\n",
        "cv2.waitKey()\n",
        "cv2.destroyAllWindows()\n",
        "cv2.waitKey(1)\n",
        "\n",
        "\n"
      ]
    },
    {
      "cell_type": "code",
      "execution_count": null,
      "id": "d6fc8579",
      "metadata": {
        "id": "d6fc8579",
        "outputId": "273ed162-7670-4ea8-ab1f-ec1cdebab900"
      },
      "outputs": [
        {
          "data": {
            "text/plain": [
              "(100, 100, 3)"
            ]
          },
          "execution_count": 59,
          "metadata": {},
          "output_type": "execute_result"
        }
      ],
      "source": [
        "hat.shape\n",
        "hat.shape"
      ]
    },
    {
      "cell_type": "code",
      "execution_count": null,
      "id": "5ac362c7",
      "metadata": {
        "id": "5ac362c7",
        "outputId": "5b3ebd86-cd0d-4a74-e0a6-beb5d18d5dfa"
      },
      "outputs": [
        {
          "data": {
            "text/plain": [
              "-1"
            ]
          },
          "execution_count": 116,
          "metadata": {},
          "output_type": "execute_result"
        }
      ],
      "source": [
        "img = np.full((800,1200,3),(255,255,255), dtype = np.uint8)\n",
        "\n",
        "cv2.line(img, (50, 50), (300,50),(0,0,255), 4)\n",
        "cv2.line(img, (300, 50), (300,300),(0,0,255), 4)\n",
        "cv2.line(img, (400, 20), (400,350),(0,0,255), 4)\n",
        "# cv2.line(img, (100, 400), (400,400),(0,0,255), 4)\n",
        "\n",
        "\n",
        "cv2.rectangle(img, (50, 400),(400, 500), (0, 0, 255), -1)\n",
        "cv2.rectangle(img,(60, 450,300, 100), (255,255, 255), -1)\n",
        "\n",
        "\n",
        "cv2.circle(img, (600,300), 100, (0,0,255), 10, cv2.LINE_AA)\n",
        "\n",
        "\n",
        "cv2.ellipse(img, (800,300), (50, 100),30, 0, 360,(127,0,255),10,cv2.LINE_AA)\n",
        "cv2.putText(img, 'OpenCV', (600,500), cv2.FONT_HERSHEY_COMPLEX, 2,(0,133,23),5,cv2.LINE_AA)\n",
        "cv2.imshow('image', img)\n",
        "\n",
        "\n",
        "cv2.waitKey()\n",
        "cv2.destroyAllWindows()\n",
        "cv2.waitKey(1)"
      ]
    },
    {
      "cell_type": "code",
      "execution_count": null,
      "id": "c352f136",
      "metadata": {
        "id": "c352f136",
        "outputId": "b3722d4a-0e5a-489f-8cff-e797d042e42b"
      },
      "outputs": [
        {
          "data": {
            "text/plain": [
              "-1"
            ]
          },
          "execution_count": 153,
          "metadata": {},
          "output_type": "execute_result"
        }
      ],
      "source": [
        "img = np.full((800,1200,3),(255,255,255), dtype = np.uint8)\n",
        "\n",
        "# circle(img, center, radius, color[, thickness[, lineType[, shift]]]) -> img\n",
        "cv2.circle(img, (200,200), 100, (111,111,12), 10, cv2.LINE_AA)\n",
        "\n",
        "cv2.line(img, (400,70), (400,370),(0,0,255),4)\n",
        "\n",
        "cv2.line(img, (200,500), (200,600), (0,0,255),4)\n",
        "cv2.line(img, (200,600), (500,600), (0,0,255),4)\n",
        "\n",
        "cv2.line(img, (700,100), (600,300), (0,0,255),4)\n",
        "cv2.line(img, (700,100), (800,300), (0,0,255),4)\n",
        "\n",
        "cv2.line(img, (900,100), (900,400), (0,0,255),4)\n",
        "cv2.line(img, (900,250), (1000,250), (0,0,255),4)\n",
        "\n",
        "cv2.rectangle(img, (900, 600),(600, 500), (0, 127, 255), 10)\n",
        "# cv2.rectangle(img,(910, 650,500, 100), (255,255, 255), -1)\n",
        "\n",
        "\n",
        "\n",
        "cv2.imshow('image', img)\n",
        "\n",
        "\n",
        "cv2.waitKey()\n",
        "cv2.destroyAllWindows()\n",
        "cv2.waitKey(1)"
      ]
    },
    {
      "cell_type": "code",
      "execution_count": null,
      "id": "4ed149f0",
      "metadata": {
        "id": "4ed149f0"
      },
      "outputs": [],
      "source": [
        ""
      ]
    }
  ],
  "metadata": {
    "kernelspec": {
      "display_name": "Python 3 (ipykernel)",
      "language": "python",
      "name": "python3"
    },
    "language_info": {
      "codemirror_mode": {
        "name": "ipython",
        "version": 3
      },
      "file_extension": ".py",
      "mimetype": "text/x-python",
      "name": "python",
      "nbconvert_exporter": "python",
      "pygments_lexer": "ipython3",
      "version": "3.9.7"
    },
    "colab": {
      "name": "20220715_class4.ipynb",
      "provenance": [],
      "include_colab_link": true
    }
  },
  "nbformat": 4,
  "nbformat_minor": 5
}