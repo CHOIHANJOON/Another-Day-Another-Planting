{
  "nbformat": 4,
  "nbformat_minor": 0,
  "metadata": {
    "colab": {
      "name": "Decision Tree 모형.ipynb",
      "provenance": [],
      "authorship_tag": "ABX9TyOrFacYgxhszETumdquLoid",
      "include_colab_link": true
    },
    "kernelspec": {
      "name": "python3",
      "display_name": "Python 3"
    },
    "language_info": {
      "name": "python"
    }
  },
  "cells": [
    {
      "cell_type": "markdown",
      "metadata": {
        "id": "view-in-github",
        "colab_type": "text"
      },
      "source": [
        "<a href=\"https://colab.research.google.com/github/CHOIHANJOON/python/blob/main/Decision_Tree_%EB%AA%A8%ED%98%95.ipynb\" target=\"_parent\"><img src=\"https://colab.research.google.com/assets/colab-badge.svg\" alt=\"Open In Colab\"/></a>"
      ]
    },
    {
      "cell_type": "code",
      "execution_count": 1,
      "metadata": {
        "colab": {
          "base_uri": "https://localhost:8080/"
        },
        "id": "ihyt1h6SNsNZ",
        "outputId": "41bf2bbe-6809-482d-a244-a291b8bb3a1c"
      },
      "outputs": [
        {
          "output_type": "stream",
          "name": "stdout",
          "text": [
            "        id  clump  cell_size  cell_shape  adhesion  epithial bare_nuclei  \\\n",
            "0  1000025      5          1           1         1         2           1   \n",
            "1  1002945      5          4           4         5         7          10   \n",
            "2  1015425      3          1           1         1         2           2   \n",
            "3  1016277      6          8           8         1         3           4   \n",
            "4  1017023      4          1           1         3         2           1   \n",
            "\n",
            "   chromatin  normal_nucleoli  mitoses  class  \n",
            "0          3                1        1      2  \n",
            "1          3                2        1      2  \n",
            "2          3                1        1      2  \n",
            "3          3                7        1      2  \n",
            "4          3                1        1      2  \n",
            "\n",
            "\n",
            "<class 'pandas.core.frame.DataFrame'>\n",
            "RangeIndex: 699 entries, 0 to 698\n",
            "Data columns (total 11 columns):\n",
            " #   Column           Non-Null Count  Dtype \n",
            "---  ------           --------------  ----- \n",
            " 0   id               699 non-null    int64 \n",
            " 1   clump            699 non-null    int64 \n",
            " 2   cell_size        699 non-null    int64 \n",
            " 3   cell_shape       699 non-null    int64 \n",
            " 4   adhesion         699 non-null    int64 \n",
            " 5   epithial         699 non-null    int64 \n",
            " 6   bare_nuclei      699 non-null    object\n",
            " 7   chromatin        699 non-null    int64 \n",
            " 8   normal_nucleoli  699 non-null    int64 \n",
            " 9   mitoses          699 non-null    int64 \n",
            " 10  class            699 non-null    int64 \n",
            "dtypes: int64(10), object(1)\n",
            "memory usage: 60.2+ KB\n",
            "None\n",
            "\n",
            "\n",
            "                 id       clump   cell_size  cell_shape    adhesion  \\\n",
            "count  6.990000e+02  699.000000  699.000000  699.000000  699.000000   \n",
            "mean   1.071704e+06    4.417740    3.134478    3.207439    2.806867   \n",
            "std    6.170957e+05    2.815741    3.051459    2.971913    2.855379   \n",
            "min    6.163400e+04    1.000000    1.000000    1.000000    1.000000   \n",
            "25%    8.706885e+05    2.000000    1.000000    1.000000    1.000000   \n",
            "50%    1.171710e+06    4.000000    1.000000    1.000000    1.000000   \n",
            "75%    1.238298e+06    6.000000    5.000000    5.000000    4.000000   \n",
            "max    1.345435e+07   10.000000   10.000000   10.000000   10.000000   \n",
            "\n",
            "         epithial   chromatin  normal_nucleoli     mitoses       class  \n",
            "count  699.000000  699.000000       699.000000  699.000000  699.000000  \n",
            "mean     3.216023    3.437768         2.866953    1.589413    2.689557  \n",
            "std      2.214300    2.438364         3.053634    1.715078    0.951273  \n",
            "min      1.000000    1.000000         1.000000    1.000000    2.000000  \n",
            "25%      2.000000    2.000000         1.000000    1.000000    2.000000  \n",
            "50%      2.000000    3.000000         1.000000    1.000000    2.000000  \n",
            "75%      4.000000    5.000000         4.000000    1.000000    4.000000  \n",
            "max     10.000000   10.000000        10.000000   10.000000    4.000000  \n"
          ]
        }
      ],
      "source": [
        "import pandas as pd\n",
        "import numpy as np\n",
        "\n",
        "uci_path = 'https://archive.ics.uci.edu/ml/machine-learning-databases/breast-cancer-wisconsin/breast-cancer-wisconsin.data'\n",
        "df = pd.read_csv(uci_path, header=None)\n",
        "\n",
        "df.columns = ['id','clump','cell_size','cell_shape','adhesion','epithial','bare_nuclei','chromatin','normal_nucleoli','mitoses','class']\n",
        "\n",
        "pd.set_option('display.max_columns',15)\n",
        "\n",
        "print(df.head())\n",
        "print('\\n')\n",
        "\n",
        "print(df.info())\n",
        "print('\\n')\n",
        "\n",
        "print(df.describe())"
      ]
    },
    {
      "cell_type": "code",
      "source": [
        "print(df['bare_nuclei'].unique())\n",
        "print('\\n')\n",
        "\n",
        "df['bare_nuclei'].replace('?',np.nan, inplace=True)\n",
        "df.dropna(subset=['bare_nuclei'], axis=0, inplace=True)\n",
        "df['bare_nuclei'] = df['bare_nuclei'].astype('int')\n",
        "\n",
        "print(df.describe())"
      ],
      "metadata": {
        "colab": {
          "base_uri": "https://localhost:8080/"
        },
        "id": "O9etLXX3Q6Ss",
        "outputId": "c4e9fe5c-3f15-480b-ba3d-6891ccd75461"
      },
      "execution_count": 4,
      "outputs": [
        {
          "output_type": "stream",
          "name": "stdout",
          "text": [
            "['1' '10' '2' '4' '3' '9' '7' nan '5' '8' '6']\n",
            "\n",
            "\n",
            "                 id       clump   cell_size  cell_shape    adhesion  \\\n",
            "count  6.830000e+02  683.000000  683.000000  683.000000  683.000000   \n",
            "mean   1.076720e+06    4.442167    3.150805    3.215227    2.830161   \n",
            "std    6.206440e+05    2.820761    3.065145    2.988581    2.864562   \n",
            "min    6.337500e+04    1.000000    1.000000    1.000000    1.000000   \n",
            "25%    8.776170e+05    2.000000    1.000000    1.000000    1.000000   \n",
            "50%    1.171795e+06    4.000000    1.000000    1.000000    1.000000   \n",
            "75%    1.238705e+06    6.000000    5.000000    5.000000    4.000000   \n",
            "max    1.345435e+07   10.000000   10.000000   10.000000   10.000000   \n",
            "\n",
            "         epithial  bare_nuclei   chromatin  normal_nucleoli     mitoses  \\\n",
            "count  683.000000   683.000000  683.000000       683.000000  683.000000   \n",
            "mean     3.234261     3.544656    3.445095         2.869693    1.603221   \n",
            "std      2.223085     3.643857    2.449697         3.052666    1.732674   \n",
            "min      1.000000     1.000000    1.000000         1.000000    1.000000   \n",
            "25%      2.000000     1.000000    2.000000         1.000000    1.000000   \n",
            "50%      2.000000     1.000000    3.000000         1.000000    1.000000   \n",
            "75%      4.000000     6.000000    5.000000         4.000000    1.000000   \n",
            "max     10.000000    10.000000   10.000000        10.000000   10.000000   \n",
            "\n",
            "            class  \n",
            "count  683.000000  \n",
            "mean     2.699854  \n",
            "std      0.954592  \n",
            "min      2.000000  \n",
            "25%      2.000000  \n",
            "50%      2.000000  \n",
            "75%      4.000000  \n",
            "max      4.000000  \n"
          ]
        }
      ]
    },
    {
      "cell_type": "code",
      "source": [
        "X=df[['clump','cell_size','cell_shape','adhesion','epithial','bare_nuclei','chromatin','normal_nucleoli','mitoses']]\n",
        "y=df['class']\n",
        "\n",
        "from sklearn import preprocessing\n",
        "X = preprocessing.StandardScaler().fit(X).transform(X)\n",
        "\n",
        "from sklearn.model_selection import train_test_split\n",
        "X_train, X_test, y_train, y_test = train_test_split(X,y,test_size=0.3, random_state=10)\n",
        "\n",
        "print('train data 개수 :', X_train.shape)\n",
        "print('test data 개수 :', X_test.shape)"
      ],
      "metadata": {
        "colab": {
          "base_uri": "https://localhost:8080/"
        },
        "id": "YHXiKVv5RkAm",
        "outputId": "41835211-6e9e-45ed-ed37-f70721c6d1ab"
      },
      "execution_count": 8,
      "outputs": [
        {
          "output_type": "stream",
          "name": "stdout",
          "text": [
            "train data 개수 : (478, 9)\n",
            "test data 개수 : (205, 9)\n"
          ]
        }
      ]
    },
    {
      "cell_type": "code",
      "source": [
        "from sklearn import tree\n",
        "\n",
        "tree_model = tree.DecisionTreeClassifier(criterion='entropy', max_depth=5)\n",
        "\n",
        "tree_model.fit(X_train, y_train)\n",
        "\n",
        "y_hat = tree_model.predict(X_test)\n",
        "\n",
        "print(y_hat[0:10])\n",
        "print(y_test.values[0:10])"
      ],
      "metadata": {
        "colab": {
          "base_uri": "https://localhost:8080/"
        },
        "id": "Y7wcqdr1Wq2m",
        "outputId": "b59e57b5-b023-4130-8200-05b7b450196e"
      },
      "execution_count": 9,
      "outputs": [
        {
          "output_type": "stream",
          "name": "stdout",
          "text": [
            "[4 4 4 4 4 4 2 2 4 4]\n",
            "[4 4 4 4 4 4 2 2 4 4]\n"
          ]
        }
      ]
    },
    {
      "cell_type": "code",
      "source": [
        "from sklearn import metrics\n",
        "\n",
        "tree_matrix = metrics.confusion_matrix(y_test, y_hat)\n",
        "print(tree_matrix)\n",
        "print('\\n')\n",
        "\n",
        "tree_report = metrics.classification_report(y_test, y_hat)\n",
        "print(tree_report)"
      ],
      "metadata": {
        "colab": {
          "base_uri": "https://localhost:8080/"
        },
        "id": "rN7Tbz3pX1nw",
        "outputId": "3b564866-a9a7-4006-dec5-0bfb034145ed"
      },
      "execution_count": 10,
      "outputs": [
        {
          "output_type": "stream",
          "name": "stdout",
          "text": [
            "[[127   4]\n",
            " [  2  72]]\n",
            "\n",
            "\n",
            "              precision    recall  f1-score   support\n",
            "\n",
            "           2       0.98      0.97      0.98       131\n",
            "           4       0.95      0.97      0.96        74\n",
            "\n",
            "    accuracy                           0.97       205\n",
            "   macro avg       0.97      0.97      0.97       205\n",
            "weighted avg       0.97      0.97      0.97       205\n",
            "\n"
          ]
        }
      ]
    },
    {
      "cell_type": "code",
      "source": [
        ""
      ],
      "metadata": {
        "id": "JdXGPxaLY0Pt"
      },
      "execution_count": null,
      "outputs": []
    }
  ]
}