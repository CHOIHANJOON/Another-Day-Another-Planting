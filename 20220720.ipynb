{
  "cells": [
    {
      "cell_type": "markdown",
      "metadata": {
        "id": "view-in-github",
        "colab_type": "text"
      },
      "source": [
        "<a href=\"https://colab.research.google.com/github/CHOIHANJOON/Another-Day-Another-Planting/blob/main/20220720.ipynb\" target=\"_parent\"><img src=\"https://colab.research.google.com/assets/colab-badge.svg\" alt=\"Open In Colab\"/></a>"
      ]
    },
    {
      "cell_type": "code",
      "execution_count": null,
      "id": "f36a8b10",
      "metadata": {
        "id": "f36a8b10"
      },
      "outputs": [],
      "source": [
        "import cv2\n",
        "import numpy as np\n",
        "import sys\n",
        "import matplotlib.pyplot as plt"
      ]
    },
    {
      "cell_type": "code",
      "execution_count": null,
      "id": "df78fd14",
      "metadata": {
        "id": "df78fd14"
      },
      "outputs": [],
      "source": [
        "img = cv2.imread('fig/cat.bmp')\n",
        "\n",
        "if img is None:\n",
        "    print('image read failed')\n",
        "    sys.exit()\n",
        "    \n",
        "cv2.namedWindow('image')\n",
        "cv2.imshow('image', img)\n",
        "\n",
        "while True:\n",
        "    if cv2.waitKey() == 27:\n",
        "        break\n",
        "        \n",
        "        \n",
        "cv2.waitKey()\n",
        "cv2.destroyAllWindows()\n",
        "cv2.waitKey(1)"
      ]
    },
    {
      "cell_type": "code",
      "execution_count": null,
      "id": "5488c10b",
      "metadata": {
        "id": "5488c10b"
      },
      "outputs": [],
      "source": [
        "import glob"
      ]
    },
    {
      "cell_type": "code",
      "execution_count": null,
      "id": "14f96dfc",
      "metadata": {
        "id": "14f96dfc"
      },
      "outputs": [],
      "source": [
        "# img_files = glob.glob('./images/*,*')\n",
        "\n",
        "\n",
        "# cv2.namedWindow('scene',cv2.WINDOW_NORMAL)\n",
        "# cv2.setWindowProperty('scene',cv2.WND_PROP_FULLSCREEN,cv2.WINDOW_FULLSCREEN)\n",
        "\n",
        "# idx = 0\n",
        "\n",
        "# while True:\n",
        "#     img = cv2.imread(img_files[idx])\n",
        "    \n",
        "#     if img is None:\n",
        "#         print('image read failed')\n",
        "#         break\n",
        "        \n",
        "#     cv2.imshow('scene', img)\n",
        "    \n",
        "#     if cv2.waitKey(3000) = 27:\n",
        "#         break\n",
        "        \n",
        "#     idx += 1\n",
        "#     if idx >= len(img_files)\n",
        "#         idx = 0\n",
        "        \n",
        "# cv2.waitKey()\n",
        "# cv2.destroyAllWindows()\n",
        "# cv2.waitKey(1)\n",
        "    "
      ]
    },
    {
      "cell_type": "code",
      "execution_count": null,
      "id": "af75a1a0",
      "metadata": {
        "id": "af75a1a0"
      },
      "outputs": [],
      "source": [
        "src = cv2.imread('fig/airplane.bmp')\n",
        "mask = cv2.imread('fig/mask_plane.bmp', 0)\n",
        "dst = cv2.imread('fig/field.bmp')\n",
        "\n",
        "# cv2.copyTo(src, mask, dst)\n",
        "\n",
        "cv2.imshow('src', src)\n",
        "cv2.imshow('mask', mask)\n",
        "cv2.imshow('dst', dst)\n",
        "\n",
        "cv2.waitKey()\n",
        "cv2.destroyAllWindows()\n",
        "cv2.waitKey(1)\n"
      ]
    },
    {
      "cell_type": "code",
      "execution_count": null,
      "id": "188f2561",
      "metadata": {
        "id": "188f2561",
        "outputId": "d92728ea-dcb7-43b2-99aa-64c3975823b4"
      },
      "outputs": [
        {
          "data": {
            "text/plain": [
              "-1"
            ]
          },
          "execution_count": 9,
          "metadata": {},
          "output_type": "execute_result"
        }
      ],
      "source": [
        "cap = cv2.VideoCapture(0)\n",
        "\n",
        "w = int(cap.get(cv2.CAP_PROP_FRAME_WIDTH))\n",
        "h = int(cap.get(cv2.CAP_PROP_FRAME_HEIGHT))\n",
        "fps = int(cap.get(cv2.CAP_PROP_FPS))\n",
        "fourcc = cv2.VideoWriter_fourcc(*'DIVX')\n",
        "\n",
        "out = cv2.VideoWriter('review.avi',fourcc, fps, (w, h))\n",
        "\n",
        "if not cap.isOpened():\n",
        "    sys.exit('cap open failed')\n",
        "    \n",
        "    \n",
        "f_flag = False\n",
        "i_flag = False\n",
        "\n",
        "cv2.namedWindow('frame')\n",
        "\n",
        "while True:\n",
        "    key = cv2.waitKey(30)\n",
        "    \n",
        "    ret,frame = cap.read()\n",
        "    \n",
        "    if not ret:\n",
        "        print('Go home')\n",
        "        break\n",
        "        \n",
        "    if f_flag:\n",
        "        frame = cv2.flip(frame, 1)\n",
        "        \n",
        "    if i_flag:\n",
        "        frame = cv2.Canny(frame, 50,150)\n",
        "    \n",
        "    cv2.imshow('frame',frame)\n",
        "    \n",
        "    if key == 27:\n",
        "        break\n",
        "        \n",
        "    elif key == ord('f'):\n",
        "        f_flag = not f_flag\n",
        "       \n",
        "    elif key == ord('i'):\n",
        "        i_flag = not i_flag\n",
        "\n",
        "    \n",
        "    \n",
        "        \n",
        "    \n",
        "out.release()\n",
        "cap.release()\n",
        "\n",
        "cv2.destroyAllWindows()\n",
        "cv2.waitKey(1) \n",
        "    "
      ]
    },
    {
      "cell_type": "code",
      "execution_count": null,
      "id": "a77487a4",
      "metadata": {
        "id": "a77487a4",
        "outputId": "3a036ca8-d750-4f65-8d0d-61fe9e0c54d0"
      },
      "outputs": [
        {
          "data": {
            "text/plain": [
              "-1"
            ]
          },
          "execution_count": 9,
          "metadata": {},
          "output_type": "execute_result"
        }
      ],
      "source": [
        "img = cv2.imread('fig/cow.png', 0)\n",
        "img1 = img.copy()\n",
        "\n",
        "cv2.imshow('image',img)\n",
        "while True:\n",
        "    \n",
        "    key = cv2.waitKey()\n",
        "    \n",
        "    if key == 27 or key == ord('q'):\n",
        "        break\n",
        "        \n",
        "    elif key == ord('i'):\n",
        "        img = 255 - img\n",
        "        cv2.imshow('image', img)\n",
        "        \n",
        "    elif key == ord('e'):\n",
        "        \n",
        "        img = cv2.Canny(img, 50,150)\n",
        "        cv2.imshow('img',img)\n",
        "        \n",
        "    elif key == ord('r'):\n",
        "        img= img1.copy()\n",
        "        cv2.imshow('img', img)\n",
        "\n",
        "cv2.destroyAllWindows()\n",
        "cv2.waitKey(1)\n",
        "        "
      ]
    },
    {
      "cell_type": "code",
      "execution_count": null,
      "id": "7868b252",
      "metadata": {
        "id": "7868b252",
        "outputId": "ba423049-f03d-41d6-bab5-b251ca68b220"
      },
      "outputs": [
        {
          "name": "stdout",
          "output_type": "stream",
          "text": [
            "Go home\n"
          ]
        },
        {
          "data": {
            "text/plain": [
              "-1"
            ]
          },
          "execution_count": 10,
          "metadata": {},
          "output_type": "execute_result"
        }
      ],
      "source": [
        "cap = cv2.VideoCapture(0)\n",
        "\n",
        "w = int(cap.get(cv2.CAP_PROP_FRAME_WIDTH))\n",
        "h = int(cap.get(cv2.CAP_PROP_FRAME_HEIGHT))\n",
        "fps = int(cap.get(cv2.CAP_PROP_FPS))\n",
        "fourcc = cv2.VideoWriter_fourcc(*'DIVX')\n",
        "\n",
        "out = cv2.VideoWriter('review.avi',fourcc, fps, (w, h))\n",
        "\n",
        "if not cap.isOpened():\n",
        "    sys.exit('cap open failed')\n",
        "    \n",
        "    \n",
        "cv2.namedWindow('frame')\n",
        "\n",
        "while True:\n",
        "    ret,frame = cap.read()\n",
        "    \n",
        "    if not ret:\n",
        "        print('Go home')\n",
        "        break\n",
        "        \n",
        "    cv2.imshow('frame',frame)\n",
        "    \n",
        "    if cv2.waitKey(30) == 27:\n",
        "        break\n",
        "        \n",
        "    \n",
        "out.release()\n",
        "cap.release()\n",
        "\n",
        "cv2.destroyAllWindows()\n",
        "cv2.waitKey(1) \n",
        "    "
      ]
    },
    {
      "cell_type": "code",
      "execution_count": null,
      "id": "382dd1d4",
      "metadata": {
        "id": "382dd1d4",
        "outputId": "adde9058-9a8d-41e7-c3cb-125b3e0206b5"
      },
      "outputs": [
        {
          "data": {
            "text/plain": [
              "-1"
            ]
          },
          "execution_count": 8,
          "metadata": {},
          "output_type": "execute_result"
        }
      ],
      "source": [
        "def call_mouse(event, x, y, flags, param):\n",
        "    global oldx, oldy\n",
        "    \n",
        "    \n",
        "    \n",
        "    if event == cv2.EVENT_LBUTTONDOWN:\n",
        "        oldx, oldy = x, y\n",
        "        \n",
        "        \n",
        "        \n",
        "#     elif event == cv2.EVENT_LBUTTONUP:\n",
        "#         print('left button up', x, y)\n",
        "        \n",
        "    elif event == cv2.EVENT_MOUSEMOVE:\n",
        "        if flags & cv2.EVENT_FLAG_LBUTTON:\n",
        "            cv2.line(img,(oldx, oldy), (x,y), (0, 0, 255),4,cv2.LINE_AA)\n",
        "            cv2.imshow('image', img)\n",
        "            oldx, oldy = x, y\n",
        "    \n",
        "\n",
        "\n",
        "img = np.ones((600, 1000, 3), np.uint8) * 255\n",
        "\n",
        "cv2.namedWindow('image')\n",
        "cv2.imshow('image', img)\n",
        "\n",
        "cv2.setMouseCallback('image',call_mouse, img)\n",
        "\n",
        "cv2.waitKey()\n",
        "cv2.destroyAllWindows()\n",
        "cv2.waitKey(1)"
      ]
    }
  ],
  "metadata": {
    "kernelspec": {
      "display_name": "Python 3 (ipykernel)",
      "language": "python",
      "name": "python3"
    },
    "language_info": {
      "codemirror_mode": {
        "name": "ipython",
        "version": 3
      },
      "file_extension": ".py",
      "mimetype": "text/x-python",
      "name": "python",
      "nbconvert_exporter": "python",
      "pygments_lexer": "ipython3",
      "version": "3.9.7"
    },
    "colab": {
      "name": "20220720.ipynb",
      "provenance": [],
      "include_colab_link": true
    }
  },
  "nbformat": 4,
  "nbformat_minor": 5
}