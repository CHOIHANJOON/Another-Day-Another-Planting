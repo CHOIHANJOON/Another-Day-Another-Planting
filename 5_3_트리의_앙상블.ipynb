{
  "nbformat": 4,
  "nbformat_minor": 0,
  "metadata": {
    "colab": {
      "name": "5-3 트리의 앙상블.ipynb",
      "provenance": [],
      "collapsed_sections": [],
      "authorship_tag": "ABX9TyNJNrGWb9C7d89pL23jqYea",
      "include_colab_link": true
    },
    "kernelspec": {
      "name": "python3",
      "display_name": "Python 3"
    },
    "language_info": {
      "name": "python"
    }
  },
  "cells": [
    {
      "cell_type": "markdown",
      "metadata": {
        "id": "view-in-github",
        "colab_type": "text"
      },
      "source": [
        "<a href=\"https://colab.research.google.com/github/CHOIHANJOON/python/blob/main/5_3_%ED%8A%B8%EB%A6%AC%EC%9D%98_%EC%95%99%EC%83%81%EB%B8%94.ipynb\" target=\"_parent\"><img src=\"https://colab.research.google.com/assets/colab-badge.svg\" alt=\"Open In Colab\"/></a>"
      ]
    },
    {
      "cell_type": "code",
      "execution_count": 1,
      "metadata": {
        "id": "xSwgbM-dTETm"
      },
      "outputs": [],
      "source": [
        "#부트 스트랩 : 데이터세트에서 중복을 허용하여 뎅이터를 샘플링 하는 방식\n",
        "# randomForestClassifier클래스를 화이트 와인을 분류하는 문제에 적용해보기\n",
        "# 먼저 와인 데이터셋을 판다스로 불러오고 훈련세트와 테스트 세트로 나눕니다.\n"
      ]
    },
    {
      "cell_type": "code",
      "source": [
        "import numpy as np\n",
        "import pandas as pd\n",
        "from sklearn.model_selection import train_test_split\n",
        "wine = pd.read_csv('https://bit.ly/wine_csv_data')\n",
        "data = wine[['alcohol', 'sugar', 'pH']].to_numpy()\n",
        "target = wine['class'].to_numpy()\n",
        "train_input, test_input, train_target, test_target = train_test_split(data, target, test_size=0.2, random_state=42)"
      ],
      "metadata": {
        "id": "ATrUCGrJXCkO"
      },
      "execution_count": 3,
      "outputs": []
    },
    {
      "cell_type": "code",
      "source": [
        "# n_jons 는 씨피유 코어 갯수 지정 하는 것\n",
        "# return_train_scire 를 True로 지정하면 검증 점수뿐 아니라 훈련세트에 대한 점수도 같이 반환합니다.\n",
        "# 훈련 세트와 검증세트의 점수를 비교하면 과대적합을 파악하는데 용이함 (기본 매겨변수는 False임)\n",
        "\n",
        "from sklearn.model_selection import cross_validate\n",
        "from sklearn.ensemble import RandomForestClassifier\n",
        "rf = RandomForestClassifier(n_jobs=-1, random_state=42)\n",
        "scores = cross_validate(rf, train_input,train_target,\n",
        "                        return_train_score=True, n_jobs=-1)\n",
        "print(np.mean(scores['train_score']), np.mean(scores['test_score']))"
      ],
      "metadata": {
        "colab": {
          "base_uri": "https://localhost:8080/"
        },
        "id": "2TjpVtEPXnCK",
        "outputId": "ce9b8c17-a1b8-49ab-f122-95c92186a591"
      },
      "execution_count": 6,
      "outputs": [
        {
          "output_type": "stream",
          "name": "stdout",
          "text": [
            "0.9973541965122431 0.8905151032797809\n"
          ]
        }
      ]
    },
    {
      "cell_type": "code",
      "source": [
        "#랜덤 포레스트의 특성 중요도는 각 결정 트리의 특성 중요도를 취합한것.\n",
        "#랜덤 포레스트 모델을 훈련 세트에 훈련한 후 특성 중유도 출력\n",
        "rf.fit(train_input, train_target)\n",
        "print(rf.feature_importances_)"
      ],
      "metadata": {
        "colab": {
          "base_uri": "https://localhost:8080/"
        },
        "id": "WlZupjdcYxaU",
        "outputId": "cd17176f-de3b-4846-c2ec-27c4fd2155ba"
      },
      "execution_count": 7,
      "outputs": [
        {
          "output_type": "stream",
          "name": "stdout",
          "text": [
            "[0.23167441 0.50039841 0.26792718]\n"
          ]
        }
      ]
    },
    {
      "cell_type": "code",
      "source": [
        "#oob_score 함수를 사용하여 각 결정 트리의 OOB 점수를 평균하여 출력합니다.\n",
        "rf = RandomForestClassifier(oob_score=True, n_jobs=-1, random_state=42)\n",
        "rf.fit(train_input, train_target)\n",
        "print(rf.oob_score_)"
      ],
      "metadata": {
        "colab": {
          "base_uri": "https://localhost:8080/"
        },
        "id": "PyFXVrEIZjid",
        "outputId": "d4901331-6cbc-411e-a2e9-89be035f620b"
      },
      "execution_count": 9,
      "outputs": [
        {
          "output_type": "stream",
          "name": "stdout",
          "text": [
            "0.8934000384837406\n"
          ]
        }
      ]
    },
    {
      "cell_type": "code",
      "source": [
        "# ExtraTree 를 사용하여 교차 검증점수 확인\n",
        "from sklearn.ensemble import ExtraTreesClassifier\n",
        "et = ExtraTreesClassifier(n_jobs=-1, random_state=42)\n",
        "scores = cross_validate(et, train_input, train_target,\n",
        "                        return_train_score=True, n_jobs=-1)\n",
        "print(np.mean(scores['train_score']), np.mean(scores['test_score']))"
      ],
      "metadata": {
        "colab": {
          "base_uri": "https://localhost:8080/"
        },
        "id": "Tff1EPM_aiAK",
        "outputId": "7edd7b14-128c-46a4-ddd4-f40e92655033"
      },
      "execution_count": 10,
      "outputs": [
        {
          "output_type": "stream",
          "name": "stdout",
          "text": [
            "0.9974503966084433 0.8887848893166506\n"
          ]
        }
      ]
    },
    {
      "cell_type": "code",
      "source": [
        "et.fit(train_input, train_target)\n",
        "print(et.feature_importances_)"
      ],
      "metadata": {
        "colab": {
          "base_uri": "https://localhost:8080/"
        },
        "id": "40D3t3MabsrV",
        "outputId": "5e187135-9804-4ba4-b4f4-d4168d26ed65"
      },
      "execution_count": 11,
      "outputs": [
        {
          "output_type": "stream",
          "name": "stdout",
          "text": [
            "[0.20183568 0.52242907 0.27573525]\n"
          ]
        }
      ]
    },
    {
      "cell_type": "code",
      "source": [
        "#히스토그램 기반 그레이디언트 부스팅 은 정형데이터를 다루는 머시러닝 알고리즘 중 최고인기 알고리즘\n",
        "#HistGrandientBoostingClassifier 는 먼저 입력 특성을 256 구간으로 나눠 최적의 분할된 노드를 매우 빠르게 찾을 수 있음\n",
        "# 256개의 구간 중에서 하나를 떼어 놓고 누락된 값을 위해서 사용. ?\n",
        "#HistGrandientBoostingClassifier 를 와인 데이터셋ㅅ에 적용해보자~"
      ],
      "metadata": {
        "id": "v7t2dA6jcMfh"
      },
      "execution_count": 12,
      "outputs": []
    },
    {
      "cell_type": "code",
      "source": [
        "from sklearn.experimental import enable_hist_gradient_boosting\n",
        "from sklearn.ensemble import HistGradientBoostingClassifier\n",
        "hgb = HistGradientBoostingClassifier(random_state=42)\n",
        "scores = cross_validate(hgb, train_input, train_target,\n",
        "                        return_train_score=True)\n",
        "print(np.mean(scores['train_score']), np.mean(scores['test_score']))"
      ],
      "metadata": {
        "colab": {
          "base_uri": "https://localhost:8080/"
        },
        "id": "9zoscl0jdFRJ",
        "outputId": "1dcf4f07-c721-4ef5-dd6b-43f5f6732fe9"
      },
      "execution_count": 15,
      "outputs": [
        {
          "output_type": "stream",
          "name": "stdout",
          "text": [
            "0.9321723946453317 0.8801241948619236\n"
          ]
        }
      ]
    },
    {
      "cell_type": "code",
      "source": [
        "# 특성 중요도를 계산하기 위해 permutation_importance() 함수를 사용 하여 특성을 하나씩 랜덤하게 섞어서 모델의 성능이\n",
        "# 변화하는지를 관찰하여 어떤 특성이 중요한지를 계산한다.\n",
        "# n_repeats / 랜덤하게 섞을 횟수를 지정 10으로 지정, 기본값은 5\n",
        "from sklearn.inspection import permutation_importance\n",
        "\n",
        "hgb.fit(train_input, train_target)\n",
        "result=permutation_importance(hgb, train_input, train_target,\n",
        "                              n_repeats=10, random_state=42, n_jobs=-1)\n",
        "print(result.importances_mean)"
      ],
      "metadata": {
        "colab": {
          "base_uri": "https://localhost:8080/"
        },
        "id": "yvZxhvrGdmyj",
        "outputId": "cef3c99e-5b28-44c5-abd3-fa32bef3e89f"
      },
      "execution_count": 16,
      "outputs": [
        {
          "output_type": "stream",
          "name": "stdout",
          "text": [
            "[0.08876275 0.23438522 0.08027708]\n"
          ]
        }
      ]
    },
    {
      "cell_type": "code",
      "source": [
        "#permutation_importance() 함수가 반환하는 객체는 반복하여 얻은 특성 중요도(importances),평균(importances_mean),표준 편차(importances_std)\n",
        "#을 담고있다.\n",
        "# 테스트 세트에서 특성 중요도를 계산 하여 봅시다~\n",
        "\n",
        "result = permutation_importance(hgb, test_input, test_target, n_repeats=10, random_state=42, n_jobs=-1)\n",
        "print(result.importances_mean)"
      ],
      "metadata": {
        "colab": {
          "base_uri": "https://localhost:8080/"
        },
        "id": "5Lwt67SGepIP",
        "outputId": "0c88a534-4ed5-4689-ee36-7fb7f6c85f40"
      },
      "execution_count": 17,
      "outputs": [
        {
          "output_type": "stream",
          "name": "stdout",
          "text": [
            "[0.05969231 0.20238462 0.049     ]\n"
          ]
        }
      ]
    },
    {
      "cell_type": "code",
      "source": [
        "# HistGradientBoostingClassifier를 사용해 테스트 세트에서의 성능을 최종적으로 확인해 보자\n",
        "\n",
        "hgb.score(test_input, test_target)"
      ],
      "metadata": {
        "colab": {
          "base_uri": "https://localhost:8080/"
        },
        "id": "0fmXdyrzhUIG",
        "outputId": "2ecc4eea-9f54-4f3d-b9e9-dcedf8750ddc"
      },
      "execution_count": 18,
      "outputs": [
        {
          "output_type": "execute_result",
          "data": {
            "text/plain": [
              "0.8723076923076923"
            ]
          },
          "metadata": {},
          "execution_count": 18
        }
      ]
    },
    {
      "cell_type": "code",
      "source": [
        "#XGBoost = 그레이디언트 부스팅 알고리즘을 구현한 라이브러리\n",
        "#XGBoost를 사용해 와인데이터의 교차 검증 점수를 확인해봅시당\n",
        "\n",
        "from xgboost import XGBClassifier\n",
        "xgb = XGBClassifier(tree_method='hist', random_state=42)\n",
        "scores=cross_validate(xgb,train_input, train_target,\n",
        "                      return_train_score=True)\n",
        "print(np.mean(scores['train_score']), np.mean(scores['test_score']))"
      ],
      "metadata": {
        "colab": {
          "base_uri": "https://localhost:8080/"
        },
        "id": "IxvGNWOJj_Jq",
        "outputId": "3308f8ca-ac4e-4fd6-8017-d3a7ddc76044"
      },
      "execution_count": 22,
      "outputs": [
        {
          "output_type": "stream",
          "name": "stdout",
          "text": [
            "0.8824322471423747 0.8726214185237284\n"
          ]
        }
      ]
    },
    {
      "cell_type": "code",
      "source": [
        "#LightGBM = 마이크로소프트에서 만든 히스토그램 기반 그레이디언트 부스팅 라이브러리\n",
        "\n",
        "from lightgbm import LGBMClassifier\n",
        "lgb = LGBMClassifier(random_state=42)\n",
        "scores = cross_validate(lgb, train_input, train_target, return_train_score=True, n_jobs=-1)"
      ],
      "metadata": {
        "id": "eSuwmiK-lbMa"
      },
      "execution_count": 25,
      "outputs": []
    },
    {
      "cell_type": "code",
      "source": [
        ""
      ],
      "metadata": {
        "id": "pDgN5Frdz8EA"
      },
      "execution_count": null,
      "outputs": []
    },
    {
      "cell_type": "markdown",
      "source": [
        "# \b5-3 트리의 앙상블 정리 ###\n",
        "\n",
        "정형데이터 = 데이터 베이스에 저장되는 데이터 ex:CSV, DB, EXEL\n",
        "비정형데이터 = DB나 엑셀로 표현하기 어려운 것들 텍스트데이터,사진,디지털음악,\n",
        "\n",
        "앙상블 학습이란? : 결정트리를 기반으로 정형데이터를 다루는데 가장 뛰어난 성과를 내는 알고리즘\n",
        "\n",
        "랜덤포레스트이란? : 앙상블 학습의 대표 주자 중 하나로 안정적 / 결정트리를 랜덤하게 만들어 숲을 만들고 이로 인해 각 결정 트리의 예측을 사용해 최종 예측을 만듬\n",
        "부트스트랩 샘플이란? : 데이터 세트에서 중복을 허용하여 데이터를 샘플링 하는 방식\n",
        "\n",
        "엑스트라 트리란? : 기본적으로 100개의 결정트리를 훈련을 함 랜덤 포레스트와 동일하게 결정트리가 제공하는 대부분의 매개변수를 지원.\n",
        "전체 특성 중에 일부 특성을 랜덤하게 선택하여 노드를 분할하는데 사용.\n",
        "단 랜덤포레스트와의 차이점은 부트스트랩 샘플을 사용하지 않는다.\n",
        "\n",
        "그레이디언트 부스팅 이란? : 깊이가 얕은 결정 트리를 사용하여 이전 트리의 오차를 보완하는 방식으로 앙상블 하는 방법.\n",
        "경사하강법을 사용하여 트리를 앙상블에 추가함.\n",
        "분류에서는 로지스틱 손실 함수를 사용하고, 회귀에서는 평균 제곱 오차 함수를 사용.\n",
        "\n",
        "히스토그램 기반 그레이디언트 부스팅 이란? : 정형데이터를 다루는 머신러닝 알고리즘 중에서 가장 인기가 많은 알고리즘,\n",
        "입력특성을 256개의 구간으로 나누어 노드를 분할할 때 최적의 분할을 매우 빠르게 찾을 수 있음."
      ],
      "metadata": {
        "id": "-jS4FTrK0uLN"
      }
    }
  ]
}